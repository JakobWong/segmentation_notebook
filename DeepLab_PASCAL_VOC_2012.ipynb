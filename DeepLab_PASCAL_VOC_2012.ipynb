{
 "cells": [
  {
   "cell_type": "markdown",
   "metadata": {
    "colab_type": "text",
    "id": "KFPcBuVFw61h"
   },
   "source": [
    "# DeepLab Demo\n",
    "\n",
    "This demo will demostrate the steps to run deeplab semantic segmentation model on sample input images."
   ]
  },
  {
   "cell_type": "code",
   "execution_count": 1,
   "metadata": {
    "cellView": "code",
    "colab": {},
    "colab_type": "code",
    "id": "kAbdmRmvq0Je"
   },
   "outputs": [],
   "source": [
    "#@title Imports\n",
    "\n",
    "import os\n",
    "from io import BytesIO\n",
    "import tarfile\n",
    "import tempfile\n",
    "from six.moves import urllib\n",
    "\n",
    "from matplotlib import gridspec\n",
    "from matplotlib import pyplot as plt\n",
    "import numpy as np\n",
    "from PIL import Image\n",
    "\n",
    "import tensorflow as tf\n",
    "import cv2"
   ]
  },
  {
   "cell_type": "code",
   "execution_count": 2,
   "metadata": {},
   "outputs": [],
   "source": [
    "from IPython.display import display\n",
    "from ipywidgets import interact\n",
    "from ipywidgets import interactive\n",
    "import ipywidgets as widgets"
   ]
  },
  {
   "cell_type": "code",
   "execution_count": 3,
   "metadata": {
    "cellView": "code",
    "colab": {},
    "colab_type": "code",
    "id": "vN0kU6NJ1Ye5"
   },
   "outputs": [],
   "source": [
    "#@title Helper methods\n",
    "\n",
    "\n",
    "class DeepLabModel(object):\n",
    "    \"\"\"Class to load deeplab model and run inference.\"\"\"\n",
    "    INPUT_TENSOR_NAME = 'ImageTensor:0'\n",
    "    OUTPUT_TENSOR_NAME = 'SemanticPredictions:0'\n",
    "    INPUT_SIZE = 513\n",
    "    FROZEN_GRAPH_NAME = 'frozen_inference_graph'\n",
    "    \n",
    "    def __init__(self, tarball_path):\n",
    "        \"\"\"Creates and loads pretrained deeplab model.\"\"\"\n",
    "        self.graph = tf.Graph()\n",
    "        \n",
    "        graph_def = None\n",
    "        # Extract frozen graph from tar archive.\n",
    "        tar_file = tarfile.open(tarball_path)\n",
    "        for tar_info in tar_file.getmembers():\n",
    "            if self.FROZEN_GRAPH_NAME in os.path.basename(tar_info.name):\n",
    "                file_handle = tar_file.extractfile(tar_info)\n",
    "                graph_def = tf.GraphDef.FromString(file_handle.read())\n",
    "                break\n",
    "        \n",
    "        tar_file.close()\n",
    "        \n",
    "        if graph_def is None:\n",
    "            raise RuntimeError('Cannot find inference graph in tar archive.')\n",
    "            \n",
    "        with self.graph.as_default():\n",
    "            tf.import_graph_def(graph_def, name='')\n",
    "            \n",
    "        self.sess = tf.Session(graph=self.graph)\n",
    "        \n",
    "    def run(self, image):\n",
    "        \"\"\"Runs inference on a single image.\n",
    "\n",
    "        Args:\n",
    "          image: A PIL.Image object, raw input image.\n",
    "\n",
    "        Returns:\n",
    "          resized_image: RGB image resized from original input image.\n",
    "          seg_map: Segmentation map of `resized_image`.\n",
    "        \"\"\"\n",
    "        height, width = image.shape[:2]\n",
    "        resize_ratio = 1.0 * self.INPUT_SIZE / max(width, height)\n",
    "        target_size = (int(resize_ratio * width), int(resize_ratio * height))\n",
    "        resized_image = cv2.resize(image,target_size)\n",
    "        batch_seg_map = self.sess.run(\n",
    "            self.OUTPUT_TENSOR_NAME,\n",
    "            feed_dict={self.INPUT_TENSOR_NAME: [np.asarray(resized_image)]})\n",
    "        seg_map = batch_seg_map[0]\n",
    "        return resized_image, seg_map\n",
    "\n",
    "\n",
    "def create_pascal_label_colormap():\n",
    "    \"\"\"Creates a label colormap used in PASCAL VOC segmentation benchmark.\n",
    "\n",
    "    Returns:\n",
    "        A Colormap for visualizing segmentation results.\n",
    "    \"\"\"\n",
    "    colormap = np.zeros((256, 3), dtype=int)\n",
    "    ind = np.arange(256, dtype=int)\n",
    "\n",
    "    for shift in reversed(range(8)):\n",
    "        for channel in range(3):\n",
    "            colormap[:, channel] |= ((ind >> channel) & 1) << shift\n",
    "        ind >>= 3\n",
    "\n",
    "    return colormap\n",
    "\n",
    "\n",
    "def label_to_color_image(label):\n",
    "    \"\"\"Adds color defined by the dataset colormap to the label.\n",
    "\n",
    "    Args:\n",
    "        label: A 2D array with integer type, storing the segmentation label.\n",
    "\n",
    "    Returns:\n",
    "        result: A 2D array with floating type. The element of the array\n",
    "          is the color indexed by the corresponding element in the input label\n",
    "          to the PASCAL color map.\n",
    "\n",
    "    Raises:\n",
    "        ValueError: If label is not of rank 2 or its value is larger than color\n",
    "        map maximum entry.\n",
    "    \"\"\"\n",
    "    if label.ndim != 2:\n",
    "        raise ValueError('Expect 2-D input label')\n",
    "\n",
    "    colormap = create_pascal_label_colormap()\n",
    "\n",
    "    if np.max(label) >= len(colormap):\n",
    "        raise ValueError('label value too large.')\n",
    "\n",
    "    return colormap[label]\n",
    "\n",
    "\n",
    "def vis_segmentation(image, seg_map):\n",
    "    \"\"\"Visualizes input image, segmentation map and overlay view.\"\"\"\n",
    "    plt.figure(figsize=(15, 5))\n",
    "    grid_spec = gridspec.GridSpec(1, 4, width_ratios=[6, 6, 6, 1])\n",
    "    \n",
    "    plt.subplot(grid_spec[0])\n",
    "    plt.imshow(image)\n",
    "    plt.axis('off')\n",
    "    plt.title('input image')\n",
    "    \n",
    "    plt.subplot(grid_spec[1])\n",
    "    seg_image = label_to_color_image(seg_map).astype(np.uint8)\n",
    "    plt.imshow(seg_image)\n",
    "    plt.axis('off')\n",
    "    plt.title('segmentation map')\n",
    "    \n",
    "    plt.subplot(grid_spec[2])\n",
    "    plt.imshow(image)\n",
    "    plt.imshow(seg_image, alpha=0.7)\n",
    "    plt.axis('off')\n",
    "    plt.title('segmentation overlay')\n",
    "    \n",
    "    unique_labels = np.unique(seg_map)\n",
    "    ax = plt.subplot(grid_spec[3])\n",
    "    plt.imshow(\n",
    "        FULL_COLOR_MAP[range(len(unique_labels))].astype(np.uint8), interpolation='nearest')\n",
    "#     plt.imshow(\n",
    "#         FULL_COLOR_MAP.astype(np.uint8), interpolation='nearest')\n",
    "    ax.yaxis.tick_right()\n",
    "    plt.yticks(range(len(unique_labels)), LABEL_NAMES[range(len(unique_labels))])\n",
    "    plt.xticks([], [])\n",
    "    ax.tick_params(width=0.0)\n",
    "    plt.grid('off')\n",
    "    plt.show()\n",
    "\n",
    "\n",
    "LABEL_NAMES = np.asarray([\n",
    "    'background', 'aeroplane', 'bicycle', 'bird', 'boat', 'bottle', 'bus',\n",
    "    'car', 'cat', 'chair', 'cow', 'diningtable', 'dog', 'horse', 'motorbike',\n",
    "    'person', 'pottedplant', 'sheep', 'sofa', 'train', 'tv'\n",
    "])\n",
    "\n",
    "FULL_LABEL_MAP = np.arange(len(LABEL_NAMES)).reshape(len(LABEL_NAMES), 1)\n",
    "FULL_COLOR_MAP = label_to_color_image(FULL_LABEL_MAP)"
   ]
  },
  {
   "cell_type": "code",
   "execution_count": 4,
   "metadata": {},
   "outputs": [],
   "source": [
    "def set_model(model_name):\n",
    "    return model_name"
   ]
  },
  {
   "cell_type": "markdown",
   "metadata": {
    "colab_type": "text",
    "id": "SZst78N-4OKO"
   },
   "source": [
    "## Run on sample images\n",
    "\n",
    "Select one of sample images (leave `IMAGE_URL` empty) or feed any internet image\n",
    "url for inference.\n",
    "\n",
    "Note that we are using single scale inference in the demo for fast computation,\n",
    "so the results may slightly differ from the visualizations in\n",
    "[README](https://github.com/tensorflow/models/blob/master/research/deeplab/README.md),\n",
    "which uses multi-scale and left-right flipped inputs."
   ]
  },
  {
   "cell_type": "code",
   "execution_count": 5,
   "metadata": {
    "colab": {
     "base_uri": "https://localhost:8080/",
     "height": 51
    },
    "colab_type": "code",
    "id": "mejLUOMnHj_f",
    "outputId": "20bd9b4d-8d2a-4105-b072-2eddd13b6f94"
   },
   "outputs": [
    {
     "name": "stdout",
     "output_type": "stream",
     "text": [
      "color_transfer.py\t       model\t\tUntitled.ipynb\r\n",
      "DeepLab_ADE20K.ipynb\t       non_TM_1k.ipynb\tutils\r\n",
      "DeepLab_CitySpace.ipynb        __pycache__\tvgg19\r\n",
      "DeepLab_PASCAL_VOC_2012.ipynb  sharpened.png\tvgg_small_patch.ipynb\r\n",
      "exp1\t\t\t       summaries\tvgg_TM.ipynb\r\n",
      "hr\t\t\t       test.png\t\twide_angle.png\r\n",
      "lr\t\t\t       Untitled1.ipynb\r\n"
     ]
    },
    {
     "data": {
      "text/plain": [
       "'/home/server/Desktop/jh/data/mantis/indoor/EXP'"
      ]
     },
     "execution_count": 5,
     "metadata": {},
     "output_type": "execute_result"
    }
   ],
   "source": [
    "import os\n",
    "!ls\n",
    "os.getcwd()"
   ]
  },
  {
   "cell_type": "markdown",
   "metadata": {
    "colab_type": "text",
    "id": "xQJIuikGPZ2V"
   },
   "source": [
    "# **DeepLab models trained on PASCAL VOC 2012**"
   ]
  },
  {
   "cell_type": "code",
   "execution_count": 6,
   "metadata": {},
   "outputs": [
    {
     "data": {
      "application/vnd.jupyter.widget-view+json": {
       "model_id": "8909ff5d53d7424da15574bca309a3f4",
       "version_major": 2,
       "version_minor": 0
      },
      "text/plain": [
       "interactive(children=(Dropdown(description='model_name', options=(('mobilenetv2_coco_voctrainaug', 'mobilenetv…"
      ]
     },
     "metadata": {},
     "output_type": "display_data"
    }
   ],
   "source": [
    "w = interactive(set_model,model_name=[('mobilenetv2_coco_voctrainaug','mobilenetv2_coco_voctrainaug'), \\\n",
    "                               ('mobilenetv2_coco_voctrainval','mobilenetv2_coco_voctrainval'), \\\n",
    "                               ('xception_coco_voctrainaug','xception_coco_voctrainaug'),\\\n",
    "                               ('xception_coco_voctrainval','xception_coco_voctrainval')])\n",
    "display(w)"
   ]
  },
  {
   "cell_type": "code",
   "execution_count": 7,
   "metadata": {},
   "outputs": [
    {
     "name": "stdout",
     "output_type": "stream",
     "text": [
      "MODEL_NAME = mobilenetv2_coco_voctrainaug\n"
     ]
    }
   ],
   "source": [
    "MODEL_NAME = w.result\n",
    "print('MODEL_NAME = '+ MODEL_NAME)"
   ]
  },
  {
   "cell_type": "code",
   "execution_count": 9,
   "metadata": {
    "colab": {
     "base_uri": "https://localhost:8080/",
     "height": 51
    },
    "colab_type": "code",
    "id": "c4oXKmnjw6i_",
    "outputId": "14c19321-6ef8-4f92-da1f-e8d7ef26bbef"
   },
   "outputs": [
    {
     "name": "stdout",
     "output_type": "stream",
     "text": [
      "Loading DeepLab model...\n",
      "model loaded successfully!\n"
     ]
    }
   ],
   "source": [
    "#@title Select and download models {display-mode: \"form\"}\n",
    "\n",
    "_DOWNLOAD_URL_PREFIX = 'http://download.tensorflow.org/models/'\n",
    "_MODEL_URLS = {\n",
    "    'mobilenetv2_coco_voctrainaug':\n",
    "        'deeplabv3_mnv2_pascal_train_aug_2018_01_29.tar.gz',\n",
    "    'mobilenetv2_coco_voctrainval':\n",
    "        'deeplabv3_mnv2_pascal_trainval_2018_01_29.tar.gz',\n",
    "    'xception_coco_voctrainaug':\n",
    "        'deeplabv3_pascal_train_aug_2018_01_04.tar.gz',\n",
    "    'xception_coco_voctrainval':\n",
    "        'deeplabv3_pascal_trainval_2018_01_04.tar.gz'\n",
    "}\n",
    "\n",
    "model_dir = '/home/server/Desktop/jh/pretrained_models/deeplabv3'\n",
    "\n",
    "print('Loading DeepLab model...')\n",
    "download_path = os.path.join(model_dir, _MODEL_URLS[MODEL_NAME])\n",
    "MODEL = DeepLabModel(download_path)\n",
    "print('model loaded successfully!')"
   ]
  },
  {
   "cell_type": "code",
   "execution_count": 10,
   "metadata": {},
   "outputs": [],
   "source": [
    "def resize_seg_map(seg_map,target_size):\n",
    "    seg_map_val = np.unique(seg_map)\n",
    "    h,w = target_size\n",
    "    res = np.zeros(shape=[h,w],dtype=np.float32)\n",
    "    \n",
    "    for i in range(len(seg_map_val)):\n",
    "        thres = seg_map_val[i]\n",
    "        tmp_mask = np.where(seg_map==thres,thres,0)\n",
    "        tmp_mask = cv2.resize(tmp_mask/255.0,(w,h),interpolation=cv2.INTER_LINEAR)\n",
    "        tmp_mask *= np.where(res!=0,0,1)\n",
    "        tmp_mask = np.where(tmp_mask!=0,thres,0)\n",
    "        res += tmp_mask*255.0\n",
    "    return np.floor(res).astype(np.uint8)"
   ]
  },
  {
   "cell_type": "markdown",
   "metadata": {},
   "source": [
    "## Segment lr image"
   ]
  },
  {
   "cell_type": "code",
   "execution_count": 14,
   "metadata": {},
   "outputs": [
    {
     "data": {
      "text/plain": [
       "<matplotlib.image.AxesImage at 0x7f8048cd7828>"
      ]
     },
     "execution_count": 14,
     "metadata": {},
     "output_type": "execute_result"
    },
    {
     "data": {
      "image/png": "[encoded data removed]",
      "text/plain": [
       "<Figure size 432x288 with 1 Axes>"
      ]
     },
     "metadata": {},
     "output_type": "display_data"
    }
   ],
   "source": [
    "directory = \"../dec20_2018/\"\n",
    "image_name = '00000.jpg'\n",
    "img_1 = cv2.imread(directory+image_name)\n",
    "img_1 = cv2.cvtColor(img_1,cv2.COLOR_BGR2RGB)\n",
    "h,w = img_1.shape[:2]\n",
    "lr_orig = cv2.resize(img_1,(int(w/8),int(h/8)))\n",
    "# img_ds_1 = cv2.resize(img_1,(int(513/8),int(384/8)))\n",
    "# img_ds_1 = cv2.resize(img_ds_1,(w,h))\n",
    "\n",
    "plt.imshow(lr_orig)"
   ]
  },
  {
   "cell_type": "markdown",
   "metadata": {},
   "source": [
    "## Segment hr image"
   ]
  },
  {
   "cell_type": "code",
   "execution_count": null,
   "metadata": {},
   "outputs": [],
   "source": [
    "directory = \"./hr/\"\n",
    "image_name = '11.png'\n",
    "hr = cv2.imread(directory+image_name)\n",
    "hr = cv2.cvtColor(hr,cv2.COLOR_BGR2RGB)\n",
    "hr = cv2.medianBlur(hr,7)\n",
    "h,w = hr.shape[:2]\n",
    "# img_ds_1 = cv2.resize(img_1,(int(513/8),int(384/8)))\n",
    "# img_ds_1 = cv2.resize(img_ds_1,(w,h))\n",
    "plt.imshow(hr)\n",
    "resized_hr, seg_map_hr = MODEL.run(hr)\n",
    "vis_segmentation(resized_hr, seg_map_hr)"
   ]
  },
  {
   "cell_type": "code",
   "execution_count": null,
   "metadata": {},
   "outputs": [],
   "source": []
  }
 ],
 "metadata": {
  "colab": {
   "collapsed_sections": [],
   "name": "Copy of DeepLab Demo.ipynb",
   "provenance": [],
   "version": "0.3.2"
  },
  "kernelspec": {
   "display_name": "Python 3",
   "language": "python",
   "name": "python3"
  },
  "language_info": {
   "codemirror_mode": {
    "name": "ipython",
    "version": 3
   },
   "file_extension": ".py",
   "mimetype": "text/x-python",
   "name": "python",
   "nbconvert_exporter": "python",
   "pygments_lexer": "ipython3",
   "version": "3.6.5"
  }
 },
 "nbformat": 4,
 "nbformat_minor": 1
}
